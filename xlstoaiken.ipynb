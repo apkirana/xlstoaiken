{
 "cells": [
  {
   "cell_type": "code",
   "execution_count": 1,
   "metadata": {},
   "outputs": [
    {
     "name": "stdout",
     "output_type": "stream",
     "text": [
      "Collecting openpyxl\n",
      "  Downloading openpyxl-3.1.5-py2.py3-none-any.whl.metadata (2.5 kB)\n",
      "Collecting et-xmlfile (from openpyxl)\n",
      "  Downloading et_xmlfile-1.1.0-py3-none-any.whl.metadata (1.8 kB)\n",
      "Downloading openpyxl-3.1.5-py2.py3-none-any.whl (250 kB)\n",
      "   ---------------------------------------- 0.0/250.9 kB ? eta -:--:--\n",
      "   - -------------------------------------- 10.2/250.9 kB ? eta -:--:--\n",
      "   - -------------------------------------- 10.2/250.9 kB ? eta -:--:--\n",
      "   ----------- --------------------------- 71.7/250.9 kB 653.6 kB/s eta 0:00:01\n",
      "   ------------------ ------------------- 122.9/250.9 kB 722.1 kB/s eta 0:00:01\n",
      "   ----------------------- -------------- 153.6/250.9 kB 762.6 kB/s eta 0:00:01\n",
      "   --------------------------- ---------- 184.3/250.9 kB 740.8 kB/s eta 0:00:01\n",
      "   --------------------------- ---------- 184.3/250.9 kB 740.8 kB/s eta 0:00:01\n",
      "   ------------------------------- ------ 204.8/250.9 kB 621.6 kB/s eta 0:00:01\n",
      "   ------------------------------- ------ 204.8/250.9 kB 621.6 kB/s eta 0:00:01\n",
      "   -------------------------------------- 250.9/250.9 kB 592.8 kB/s eta 0:00:00\n",
      "Downloading et_xmlfile-1.1.0-py3-none-any.whl (4.7 kB)\n",
      "Installing collected packages: et-xmlfile, openpyxl\n",
      "Successfully installed et-xmlfile-1.1.0 openpyxl-3.1.5\n"
     ]
    },
    {
     "name": "stderr",
     "output_type": "stream",
     "text": [
      "\n",
      "[notice] A new release of pip is available: 24.0 -> 24.2\n",
      "[notice] To update, run: C:\\Users\\POLINEMA\\AppData\\Local\\Microsoft\\WindowsApps\\PythonSoftwareFoundation.Python.3.11_qbz5n2kfra8p0\\python.exe -m pip install --upgrade pip\n"
     ]
    }
   ],
   "source": [
    "!pip install openpyxl"
   ]
  },
  {
   "cell_type": "code",
   "execution_count": 13,
   "metadata": {},
   "outputs": [
    {
     "name": "stdout",
     "output_type": "stream",
     "text": [
      "C:\\Users\\POLINEMA\\AppData\\Local\\Microsoft\\WindowsApps\\PythonSoftwareFoundation.Python.3.11_qbz5n2kfra8p0\\python.exe\n",
      "3.11.9 (tags/v3.11.9:de54cf5, Apr  2 2024, 10:12:12) [MSC v.1938 64 bit (AMD64)]\n"
     ]
    }
   ],
   "source": [
    "import sys\n",
    "print(sys.executable)\n",
    "print(sys.version)"
   ]
  },
  {
   "cell_type": "code",
   "execution_count": 14,
   "metadata": {},
   "outputs": [],
   "source": [
    "# Import library yang diperlukan\n",
    "import pandas as pd\n",
    "import openpyxl"
   ]
  },
  {
   "cell_type": "code",
   "execution_count": 19,
   "metadata": {},
   "outputs": [
    {
     "data": {
      "text/html": [
       "<div>\n",
       "<style scoped>\n",
       "    .dataframe tbody tr th:only-of-type {\n",
       "        vertical-align: middle;\n",
       "    }\n",
       "\n",
       "    .dataframe tbody tr th {\n",
       "        vertical-align: top;\n",
       "    }\n",
       "\n",
       "    .dataframe thead th {\n",
       "        text-align: right;\n",
       "    }\n",
       "</style>\n",
       "<table border=\"1\" class=\"dataframe\">\n",
       "  <thead>\n",
       "    <tr style=\"text-align: right;\">\n",
       "      <th></th>\n",
       "      <th>0</th>\n",
       "      <th>1</th>\n",
       "      <th>2</th>\n",
       "      <th>3</th>\n",
       "      <th>4</th>\n",
       "      <th>5</th>\n",
       "      <th>6</th>\n",
       "    </tr>\n",
       "  </thead>\n",
       "  <tbody>\n",
       "    <tr>\n",
       "      <th>0</th>\n",
       "      <td>Pertanyaan</td>\n",
       "      <td>A</td>\n",
       "      <td>B</td>\n",
       "      <td>C</td>\n",
       "      <td>D</td>\n",
       "      <td>E</td>\n",
       "      <td>Jawaban Benar</td>\n",
       "    </tr>\n",
       "    <tr>\n",
       "      <th>1</th>\n",
       "      <td>Out of these statements, which one is a propos...</td>\n",
       "      <td>Bring me a milk shake.</td>\n",
       "      <td>May you be blessed!</td>\n",
       "      <td>What time is it now?</td>\n",
       "      <td>Only two is an odd prime number.</td>\n",
       "      <td>All answers are wrong</td>\n",
       "      <td>D</td>\n",
       "    </tr>\n",
       "    <tr>\n",
       "      <th>2</th>\n",
       "      <td>Let P: I am in Malang.; Q: Malang is clean.; t...</td>\n",
       "      <td>Malang is clean and I am in Malang</td>\n",
       "      <td>Malang is not clean or I am in Malang</td>\n",
       "      <td>I am in Malang and Malang is not clean</td>\n",
       "      <td>Malang is clean but I am in Surabaya</td>\n",
       "      <td>All answers are wrong</td>\n",
       "      <td>A</td>\n",
       "    </tr>\n",
       "    <tr>\n",
       "      <th>3</th>\n",
       "      <td>Let P: This is a great city, Q: You should not...</td>\n",
       "      <td>~P V ~Q</td>\n",
       "      <td>P ∧ ~Q</td>\n",
       "      <td>P V Q</td>\n",
       "      <td>P ∧ Q</td>\n",
       "      <td>All answers are wrong</td>\n",
       "      <td>B</td>\n",
       "    </tr>\n",
       "    <tr>\n",
       "      <th>4</th>\n",
       "      <td>Let P: We should be diligent., Q: We should be...</td>\n",
       "      <td>~P V ~Q V R</td>\n",
       "      <td>P ∧ ~Q ∧ R</td>\n",
       "      <td>P V Q ∧ R</td>\n",
       "      <td>P V Q ∧ ~R</td>\n",
       "      <td>All answers are wrong</td>\n",
       "      <td>D</td>\n",
       "    </tr>\n",
       "    <tr>\n",
       "      <th>5</th>\n",
       "      <td>Which is the following of De-Morgan's law?</td>\n",
       "      <td>P ∧ (Q v R) Ξ (P ∧ Q) v (P ∧ R)</td>\n",
       "      <td>~(P ∧ R) Ξ ~P v ~R, ~(P v R) Ξ ~P ∧ ~R</td>\n",
       "      <td>P v ~P Ξ True, P ∧ ~P Ξ False</td>\n",
       "      <td>None of the mentioned</td>\n",
       "      <td>All answers are true</td>\n",
       "      <td>B</td>\n",
       "    </tr>\n",
       "    <tr>\n",
       "      <th>6</th>\n",
       "      <td>The notion of a value that is the inverse of p...</td>\n",
       "      <td>All answers are wrong</td>\n",
       "      <td>¬q → ¬p</td>\n",
       "      <td>q → p</td>\n",
       "      <td>¬q → p</td>\n",
       "      <td>¬p → ¬q</td>\n",
       "      <td>E</td>\n",
       "    </tr>\n",
       "    <tr>\n",
       "      <th>7</th>\n",
       "      <td>_________ is the precise subset of the power s...</td>\n",
       "      <td>0</td>\n",
       "      <td>1</td>\n",
       "      <td>2</td>\n",
       "      <td>3</td>\n",
       "      <td>4</td>\n",
       "      <td>B</td>\n",
       "    </tr>\n",
       "    <tr>\n",
       "      <th>8</th>\n",
       "      <td>Out of the two sets below, which is equal?</td>\n",
       "      <td>A = {1, 2} and B = {1}</td>\n",
       "      <td>A = {1, 2} and B = {1, 2, 3}</td>\n",
       "      <td>A = {1, 2, 3} and B = {2, 1, 3}</td>\n",
       "      <td>A = {1, 2, 4} and B = {1, 2, 3}</td>\n",
       "      <td>A = {1,3, 5} and B = {5, 2, 3}</td>\n",
       "      <td>C</td>\n",
       "    </tr>\n",
       "    <tr>\n",
       "      <th>9</th>\n",
       "      <td>_____________ is the set of positive integers.</td>\n",
       "      <td>Infinite</td>\n",
       "      <td>Finite</td>\n",
       "      <td>Subset</td>\n",
       "      <td>Empty</td>\n",
       "      <td>Exact</td>\n",
       "      <td>A</td>\n",
       "    </tr>\n",
       "  </tbody>\n",
       "</table>\n",
       "</div>"
      ],
      "text/plain": [
       "                                                   0  \\\n",
       "0                                         Pertanyaan   \n",
       "1  Out of these statements, which one is a propos...   \n",
       "2  Let P: I am in Malang.; Q: Malang is clean.; t...   \n",
       "3  Let P: This is a great city, Q: You should not...   \n",
       "4  Let P: We should be diligent., Q: We should be...   \n",
       "5         Which is the following of De-Morgan's law?   \n",
       "6  The notion of a value that is the inverse of p...   \n",
       "7  _________ is the precise subset of the power s...   \n",
       "8         Out of the two sets below, which is equal?   \n",
       "9     _____________ is the set of positive integers.   \n",
       "\n",
       "                                    1                                       2  \\\n",
       "0                                   A                                       B   \n",
       "1              Bring me a milk shake.                     May you be blessed!   \n",
       "2  Malang is clean and I am in Malang   Malang is not clean or I am in Malang   \n",
       "3                             ~P V ~Q                                  P ∧ ~Q   \n",
       "4                         ~P V ~Q V R                              P ∧ ~Q ∧ R   \n",
       "5     P ∧ (Q v R) Ξ (P ∧ Q) v (P ∧ R)  ~(P ∧ R) Ξ ~P v ~R, ~(P v R) Ξ ~P ∧ ~R   \n",
       "6               All answers are wrong                                 ¬q → ¬p   \n",
       "7                                   0                                       1   \n",
       "8              A = {1, 2} and B = {1}            A = {1, 2} and B = {1, 2, 3}   \n",
       "9                            Infinite                                  Finite   \n",
       "\n",
       "                                         3  \\\n",
       "0                                        C   \n",
       "1                     What time is it now?   \n",
       "2   I am in Malang and Malang is not clean   \n",
       "3                                    P V Q   \n",
       "4                                P V Q ∧ R   \n",
       "5            P v ~P Ξ True, P ∧ ~P Ξ False   \n",
       "6                                    q → p   \n",
       "7                                        2   \n",
       "8          A = {1, 2, 3} and B = {2, 1, 3}   \n",
       "9                                   Subset   \n",
       "\n",
       "                                      4                                5  \\\n",
       "0                                     D                                E   \n",
       "1      Only two is an odd prime number.            All answers are wrong   \n",
       "2  Malang is clean but I am in Surabaya            All answers are wrong   \n",
       "3                                 P ∧ Q            All answers are wrong   \n",
       "4                            P V Q ∧ ~R            All answers are wrong   \n",
       "5                 None of the mentioned             All answers are true   \n",
       "6                                ¬q → p                          ¬p → ¬q   \n",
       "7                                     3                                4   \n",
       "8       A = {1, 2, 4} and B = {1, 2, 3}   A = {1,3, 5} and B = {5, 2, 3}   \n",
       "9                                 Empty                            Exact   \n",
       "\n",
       "               6  \n",
       "0  Jawaban Benar  \n",
       "1              D  \n",
       "2              A  \n",
       "3              B  \n",
       "4              D  \n",
       "5              B  \n",
       "6              E  \n",
       "7              B  \n",
       "8              C  \n",
       "9              A  "
      ]
     },
     "execution_count": 19,
     "metadata": {},
     "output_type": "execute_result"
    }
   ],
   "source": [
    "# Path ke file Excel Anda\n",
    "# Path ke file Excel Anda\n",
    "file_path = 'soal1.xlsx'\n",
    "\n",
    "# Membaca file Excel\n",
    "df = pd.read_excel(file_path, header=None)\n",
    "df.head(10)"
   ]
  },
  {
   "cell_type": "code",
   "execution_count": 20,
   "metadata": {},
   "outputs": [],
   "source": [
    "# Membuat peta konversi dari huruf ke indeks\n",
    "answer_map = {\n",
    "    'A': 0,\n",
    "    'B': 1,\n",
    "    'C': 2,\n",
    "    'D': 3,\n",
    "    'E': 4\n",
    "}\n"
   ]
  },
  {
   "cell_type": "code",
   "execution_count": 24,
   "metadata": {},
   "outputs": [],
   "source": [
    "output_path = 'output.txt'"
   ]
  },
  {
   "cell_type": "code",
   "execution_count": 25,
   "metadata": {},
   "outputs": [
    {
     "name": "stdout",
     "output_type": "stream",
     "text": [
      "Data error at row 1: Jawaban Benar is not a valid answer (A-E)\n"
     ]
    }
   ],
   "source": [
    "# Membuka file output untuk penulisan dengan encoding UTF-8\n",
    "with open(output_path, 'w', encoding='utf-8') as f:\n",
    "    for index, row in df.iterrows():\n",
    "        try:\n",
    "            # Memeriksa apakah jawaban benar adalah huruf yang valid dan melakukan konversi\n",
    "            correct_answer_index = answer_map[row[6].strip().upper()]\n",
    "        except KeyError as e:\n",
    "            print(f\"Data error at row {index + 1}: {row[6]} is not a valid answer (A-E)\")\n",
    "            continue\n",
    "\n",
    "        # Menulis pertanyaan tanpa nomor\n",
    "        f.write(f\"{row[0]}\\n\")\n",
    "        \n",
    "        # Menulis pilihan jawaban\n",
    "        choices = ['A', 'B', 'C', 'D', 'E']\n",
    "        for i in range(5):\n",
    "            f.write(f\"    {choices[i]}. {row[i + 1]}\\n\")\n",
    "        \n",
    "        # Menulis jawaban benar\n",
    "        correct_answer = choices[correct_answer_index]\n",
    "        f.write(f\"ANSWER: {correct_answer}\\n\\n\")"
   ]
  },
  {
   "cell_type": "code",
   "execution_count": 26,
   "metadata": {},
   "outputs": [
    {
     "name": "stdout",
     "output_type": "stream",
     "text": [
      "Konversi selesai! File AIKEN dapat ditemukan di 'output.txt'\n"
     ]
    }
   ],
   "source": [
    "\n",
    "# Menampilkan pesan bahwa konversi selesai\n",
    "print(f\"Konversi selesai! File AIKEN dapat ditemukan di '{output_path}'\")"
   ]
  }
 ],
 "metadata": {
  "kernelspec": {
   "display_name": "Python 3",
   "language": "python",
   "name": "python3"
  },
  "language_info": {
   "codemirror_mode": {
    "name": "ipython",
    "version": 3
   },
   "file_extension": ".py",
   "mimetype": "text/x-python",
   "name": "python",
   "nbconvert_exporter": "python",
   "pygments_lexer": "ipython3",
   "version": "3.11.9"
  }
 },
 "nbformat": 4,
 "nbformat_minor": 2
}
